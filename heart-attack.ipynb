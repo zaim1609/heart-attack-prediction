{
 "cells": [
  {
   "cell_type": "code",
   "execution_count": 1,
   "id": "b35d59c1",
   "metadata": {
    "_cell_guid": "b1076dfc-b9ad-4769-8c92-a6c4dae69d19",
    "_uuid": "8f2839f25d086af736a60e9eeb907d3b93b6e0e5",
    "execution": {
     "iopub.execute_input": "2021-08-23T03:37:35.773918Z",
     "iopub.status.busy": "2021-08-23T03:37:35.772391Z",
     "iopub.status.idle": "2021-08-23T03:37:35.793898Z",
     "shell.execute_reply": "2021-08-23T03:37:35.793368Z",
     "shell.execute_reply.started": "2021-08-23T02:00:12.452176Z"
    },
    "papermill": {
     "duration": 0.040909,
     "end_time": "2021-08-23T03:37:35.794024",
     "exception": false,
     "start_time": "2021-08-23T03:37:35.753115",
     "status": "completed"
    },
    "tags": []
   },
   "outputs": [
    {
     "name": "stdout",
     "output_type": "stream",
     "text": [
      "/kaggle/input/heart-disease-prediction-using-logistic-regression/framingham.csv\n"
     ]
    }
   ],
   "source": [
    "# This Python 3 environment comes with many helpful analytics libraries installed\n",
    "# It is defined by the kaggle/python Docker image: https://github.com/kaggle/docker-python\n",
    "# For example, here's several helpful packages to load\n",
    "\n",
    "import numpy as np # linear algebra\n",
    "import pandas as pd # data processing, CSV file I/O (e.g. pd.read_csv)\n",
    "\n",
    "# Input data files are available in the read-only \"../input/\" directory\n",
    "# For example, running this (by clicking run or pressing Shift+Enter) will list all files under the input directory\n",
    "\n",
    "import os\n",
    "for dirname, _, filenames in os.walk('/kaggle/input'):\n",
    "    for filename in filenames:\n",
    "        print(os.path.join(dirname, filename))\n",
    "\n",
    "# You can write up to 20GB to the current directory (/kaggle/working/) that gets preserved as output when you create a version using \"Save & Run All\" \n",
    "# You can also write temporary files to /kaggle/temp/, but they won't be saved outside of the current session"
   ]
  },
  {
   "cell_type": "code",
   "execution_count": 2,
   "id": "14f36858",
   "metadata": {
    "execution": {
     "iopub.execute_input": "2021-08-23T03:37:35.827270Z",
     "iopub.status.busy": "2021-08-23T03:37:35.826778Z",
     "iopub.status.idle": "2021-08-23T03:37:35.948646Z",
     "shell.execute_reply": "2021-08-23T03:37:35.947856Z",
     "shell.execute_reply.started": "2021-08-23T02:00:54.325366Z"
    },
    "papermill": {
     "duration": 0.139926,
     "end_time": "2021-08-23T03:37:35.948946",
     "exception": false,
     "start_time": "2021-08-23T03:37:35.809020",
     "status": "completed"
    },
    "tags": []
   },
   "outputs": [
    {
     "data": {
      "text/html": [
       "<div>\n",
       "<style scoped>\n",
       "    .dataframe tbody tr th:only-of-type {\n",
       "        vertical-align: middle;\n",
       "    }\n",
       "\n",
       "    .dataframe tbody tr th {\n",
       "        vertical-align: top;\n",
       "    }\n",
       "\n",
       "    .dataframe thead th {\n",
       "        text-align: right;\n",
       "    }\n",
       "</style>\n",
       "<table border=\"1\" class=\"dataframe\">\n",
       "  <thead>\n",
       "    <tr style=\"text-align: right;\">\n",
       "      <th></th>\n",
       "      <th>male</th>\n",
       "      <th>age</th>\n",
       "      <th>education</th>\n",
       "      <th>currentSmoker</th>\n",
       "      <th>cigsPerDay</th>\n",
       "      <th>BPMeds</th>\n",
       "      <th>prevalentStroke</th>\n",
       "      <th>prevalentHyp</th>\n",
       "      <th>diabetes</th>\n",
       "      <th>totChol</th>\n",
       "      <th>sysBP</th>\n",
       "      <th>diaBP</th>\n",
       "      <th>BMI</th>\n",
       "      <th>heartRate</th>\n",
       "      <th>glucose</th>\n",
       "      <th>TenYearCHD</th>\n",
       "    </tr>\n",
       "  </thead>\n",
       "  <tbody>\n",
       "    <tr>\n",
       "      <th>0</th>\n",
       "      <td>1</td>\n",
       "      <td>39</td>\n",
       "      <td>4.0</td>\n",
       "      <td>0</td>\n",
       "      <td>0.0</td>\n",
       "      <td>0.0</td>\n",
       "      <td>0</td>\n",
       "      <td>0</td>\n",
       "      <td>0</td>\n",
       "      <td>195.0</td>\n",
       "      <td>106.0</td>\n",
       "      <td>70.0</td>\n",
       "      <td>26.97</td>\n",
       "      <td>80.0</td>\n",
       "      <td>77.0</td>\n",
       "      <td>0</td>\n",
       "    </tr>\n",
       "    <tr>\n",
       "      <th>1</th>\n",
       "      <td>0</td>\n",
       "      <td>46</td>\n",
       "      <td>2.0</td>\n",
       "      <td>0</td>\n",
       "      <td>0.0</td>\n",
       "      <td>0.0</td>\n",
       "      <td>0</td>\n",
       "      <td>0</td>\n",
       "      <td>0</td>\n",
       "      <td>250.0</td>\n",
       "      <td>121.0</td>\n",
       "      <td>81.0</td>\n",
       "      <td>28.73</td>\n",
       "      <td>95.0</td>\n",
       "      <td>76.0</td>\n",
       "      <td>0</td>\n",
       "    </tr>\n",
       "    <tr>\n",
       "      <th>2</th>\n",
       "      <td>1</td>\n",
       "      <td>48</td>\n",
       "      <td>1.0</td>\n",
       "      <td>1</td>\n",
       "      <td>20.0</td>\n",
       "      <td>0.0</td>\n",
       "      <td>0</td>\n",
       "      <td>0</td>\n",
       "      <td>0</td>\n",
       "      <td>245.0</td>\n",
       "      <td>127.5</td>\n",
       "      <td>80.0</td>\n",
       "      <td>25.34</td>\n",
       "      <td>75.0</td>\n",
       "      <td>70.0</td>\n",
       "      <td>0</td>\n",
       "    </tr>\n",
       "    <tr>\n",
       "      <th>3</th>\n",
       "      <td>0</td>\n",
       "      <td>61</td>\n",
       "      <td>3.0</td>\n",
       "      <td>1</td>\n",
       "      <td>30.0</td>\n",
       "      <td>0.0</td>\n",
       "      <td>0</td>\n",
       "      <td>1</td>\n",
       "      <td>0</td>\n",
       "      <td>225.0</td>\n",
       "      <td>150.0</td>\n",
       "      <td>95.0</td>\n",
       "      <td>28.58</td>\n",
       "      <td>65.0</td>\n",
       "      <td>103.0</td>\n",
       "      <td>1</td>\n",
       "    </tr>\n",
       "    <tr>\n",
       "      <th>4</th>\n",
       "      <td>0</td>\n",
       "      <td>46</td>\n",
       "      <td>3.0</td>\n",
       "      <td>1</td>\n",
       "      <td>23.0</td>\n",
       "      <td>0.0</td>\n",
       "      <td>0</td>\n",
       "      <td>0</td>\n",
       "      <td>0</td>\n",
       "      <td>285.0</td>\n",
       "      <td>130.0</td>\n",
       "      <td>84.0</td>\n",
       "      <td>23.10</td>\n",
       "      <td>85.0</td>\n",
       "      <td>85.0</td>\n",
       "      <td>0</td>\n",
       "    </tr>\n",
       "  </tbody>\n",
       "</table>\n",
       "</div>"
      ],
      "text/plain": [
       "   male  age  education  currentSmoker  cigsPerDay  BPMeds  prevalentStroke  \\\n",
       "0     1   39        4.0              0         0.0     0.0                0   \n",
       "1     0   46        2.0              0         0.0     0.0                0   \n",
       "2     1   48        1.0              1        20.0     0.0                0   \n",
       "3     0   61        3.0              1        30.0     0.0                0   \n",
       "4     0   46        3.0              1        23.0     0.0                0   \n",
       "\n",
       "   prevalentHyp  diabetes  totChol  sysBP  diaBP    BMI  heartRate  glucose  \\\n",
       "0             0         0    195.0  106.0   70.0  26.97       80.0     77.0   \n",
       "1             0         0    250.0  121.0   81.0  28.73       95.0     76.0   \n",
       "2             0         0    245.0  127.5   80.0  25.34       75.0     70.0   \n",
       "3             1         0    225.0  150.0   95.0  28.58       65.0    103.0   \n",
       "4             0         0    285.0  130.0   84.0  23.10       85.0     85.0   \n",
       "\n",
       "   TenYearCHD  \n",
       "0           0  \n",
       "1           0  \n",
       "2           0  \n",
       "3           1  \n",
       "4           0  "
      ]
     },
     "execution_count": 2,
     "metadata": {},
     "output_type": "execute_result"
    }
   ],
   "source": [
    "data = pd.read_csv('../input/heart-disease-prediction-using-logistic-regression/framingham.csv')\n",
    "data.head()"
   ]
  },
  {
   "cell_type": "code",
   "execution_count": 3,
   "id": "a77d047c",
   "metadata": {
    "execution": {
     "iopub.execute_input": "2021-08-23T03:37:35.985603Z",
     "iopub.status.busy": "2021-08-23T03:37:35.984757Z",
     "iopub.status.idle": "2021-08-23T03:37:36.000531Z",
     "shell.execute_reply": "2021-08-23T03:37:36.000945Z",
     "shell.execute_reply.started": "2021-08-23T02:01:57.049853Z"
    },
    "papermill": {
     "duration": 0.035955,
     "end_time": "2021-08-23T03:37:36.001072",
     "exception": false,
     "start_time": "2021-08-23T03:37:35.965117",
     "status": "completed"
    },
    "tags": []
   },
   "outputs": [
    {
     "name": "stdout",
     "output_type": "stream",
     "text": [
      "<class 'pandas.core.frame.DataFrame'>\n",
      "RangeIndex: 4238 entries, 0 to 4237\n",
      "Data columns (total 16 columns):\n",
      " #   Column           Non-Null Count  Dtype  \n",
      "---  ------           --------------  -----  \n",
      " 0   male             4238 non-null   int64  \n",
      " 1   age              4238 non-null   int64  \n",
      " 2   education        4133 non-null   float64\n",
      " 3   currentSmoker    4238 non-null   int64  \n",
      " 4   cigsPerDay       4209 non-null   float64\n",
      " 5   BPMeds           4185 non-null   float64\n",
      " 6   prevalentStroke  4238 non-null   int64  \n",
      " 7   prevalentHyp     4238 non-null   int64  \n",
      " 8   diabetes         4238 non-null   int64  \n",
      " 9   totChol          4188 non-null   float64\n",
      " 10  sysBP            4238 non-null   float64\n",
      " 11  diaBP            4238 non-null   float64\n",
      " 12  BMI              4219 non-null   float64\n",
      " 13  heartRate        4237 non-null   float64\n",
      " 14  glucose          3850 non-null   float64\n",
      " 15  TenYearCHD       4238 non-null   int64  \n",
      "dtypes: float64(9), int64(7)\n",
      "memory usage: 529.9 KB\n"
     ]
    }
   ],
   "source": [
    "data.info()"
   ]
  },
  {
   "cell_type": "markdown",
   "id": "d2634268",
   "metadata": {
    "papermill": {
     "duration": 0.016041,
     "end_time": "2021-08-23T03:37:36.033066",
     "exception": false,
     "start_time": "2021-08-23T03:37:36.017025",
     "status": "completed"
    },
    "tags": []
   },
   "source": [
    "data yang hilang:\n",
    "    1.education\n",
    "    2.cigsperday\n",
    "    3.BPMeds\n",
    "    4.totChol\n",
    "    5.BMI\n",
    "    6.heartRate\n",
    "    7.glucose\n",
    "    "
   ]
  },
  {
   "cell_type": "code",
   "execution_count": 4,
   "id": "9fcb0618",
   "metadata": {
    "execution": {
     "iopub.execute_input": "2021-08-23T03:37:36.068030Z",
     "iopub.status.busy": "2021-08-23T03:37:36.067240Z",
     "iopub.status.idle": "2021-08-23T03:37:36.073083Z",
     "shell.execute_reply": "2021-08-23T03:37:36.073536Z",
     "shell.execute_reply.started": "2021-08-23T02:09:47.641369Z"
    },
    "papermill": {
     "duration": 0.025045,
     "end_time": "2021-08-23T03:37:36.073657",
     "exception": false,
     "start_time": "2021-08-23T03:37:36.048612",
     "status": "completed"
    },
    "tags": []
   },
   "outputs": [
    {
     "data": {
      "text/plain": [
       "male                 0\n",
       "age                  0\n",
       "education          105\n",
       "currentSmoker        0\n",
       "cigsPerDay          29\n",
       "BPMeds              53\n",
       "prevalentStroke      0\n",
       "prevalentHyp         0\n",
       "diabetes             0\n",
       "totChol             50\n",
       "sysBP                0\n",
       "diaBP                0\n",
       "BMI                 19\n",
       "heartRate            1\n",
       "glucose            388\n",
       "TenYearCHD           0\n",
       "dtype: int64"
      ]
     },
     "execution_count": 4,
     "metadata": {},
     "output_type": "execute_result"
    }
   ],
   "source": [
    "data.isnull().sum()"
   ]
  },
  {
   "cell_type": "markdown",
   "id": "0c9d9459",
   "metadata": {
    "papermill": {
     "duration": 0.015451,
     "end_time": "2021-08-23T03:37:36.105075",
     "exception": false,
     "start_time": "2021-08-23T03:37:36.089624",
     "status": "completed"
    },
    "tags": []
   },
   "source": [
    "ngisi data kosong\n"
   ]
  },
  {
   "cell_type": "code",
   "execution_count": 5,
   "id": "44bc469b",
   "metadata": {
    "execution": {
     "iopub.execute_input": "2021-08-23T03:37:36.143454Z",
     "iopub.status.busy": "2021-08-23T03:37:36.142652Z",
     "iopub.status.idle": "2021-08-23T03:37:36.147302Z",
     "shell.execute_reply": "2021-08-23T03:37:36.147730Z",
     "shell.execute_reply.started": "2021-08-23T02:58:45.487212Z"
    },
    "papermill": {
     "duration": 0.026974,
     "end_time": "2021-08-23T03:37:36.147849",
     "exception": false,
     "start_time": "2021-08-23T03:37:36.120875",
     "status": "completed"
    },
    "tags": []
   },
   "outputs": [],
   "source": [
    "data['education'].fillna(data['education'].median(),inplace=True)\n",
    "data['cigsPerDay'].fillna(data['cigsPerDay'].median(),inplace=True)\n",
    "data['BPMeds'].fillna(data['BPMeds'].median(),inplace=True)\n",
    "data['totChol'].fillna(data['totChol'].median(),inplace=True)\n",
    "data['BMI'].fillna(data['BMI'].median(),inplace=True)\n",
    "data['heartRate'].fillna(data['heartRate'].median(),inplace=True)\n",
    "data['glucose'].fillna(data['glucose'].median(),inplace=True)\n"
   ]
  },
  {
   "cell_type": "code",
   "execution_count": 6,
   "id": "f44ff190",
   "metadata": {
    "execution": {
     "iopub.execute_input": "2021-08-23T03:37:36.183878Z",
     "iopub.status.busy": "2021-08-23T03:37:36.183083Z",
     "iopub.status.idle": "2021-08-23T03:37:36.189320Z",
     "shell.execute_reply": "2021-08-23T03:37:36.188826Z",
     "shell.execute_reply.started": "2021-08-23T02:58:48.510654Z"
    },
    "papermill": {
     "duration": 0.025752,
     "end_time": "2021-08-23T03:37:36.189443",
     "exception": false,
     "start_time": "2021-08-23T03:37:36.163691",
     "status": "completed"
    },
    "tags": []
   },
   "outputs": [
    {
     "data": {
      "text/plain": [
       "male               0\n",
       "age                0\n",
       "education          0\n",
       "currentSmoker      0\n",
       "cigsPerDay         0\n",
       "BPMeds             0\n",
       "prevalentStroke    0\n",
       "prevalentHyp       0\n",
       "diabetes           0\n",
       "totChol            0\n",
       "sysBP              0\n",
       "diaBP              0\n",
       "BMI                0\n",
       "heartRate          0\n",
       "glucose            0\n",
       "TenYearCHD         0\n",
       "dtype: int64"
      ]
     },
     "execution_count": 6,
     "metadata": {},
     "output_type": "execute_result"
    }
   ],
   "source": [
    "data.isnull().sum()"
   ]
  },
  {
   "cell_type": "code",
   "execution_count": 7,
   "id": "46d1a85f",
   "metadata": {
    "execution": {
     "iopub.execute_input": "2021-08-23T03:37:36.226265Z",
     "iopub.status.busy": "2021-08-23T03:37:36.225502Z",
     "iopub.status.idle": "2021-08-23T03:37:36.228169Z",
     "shell.execute_reply": "2021-08-23T03:37:36.227771Z",
     "shell.execute_reply.started": "2021-08-23T02:58:50.980974Z"
    },
    "papermill": {
     "duration": 0.022818,
     "end_time": "2021-08-23T03:37:36.228271",
     "exception": false,
     "start_time": "2021-08-23T03:37:36.205453",
     "status": "completed"
    },
    "tags": []
   },
   "outputs": [],
   "source": [
    "X = data.drop('TenYearCHD',axis='columns')\n",
    "y = data['TenYearCHD']"
   ]
  },
  {
   "cell_type": "code",
   "execution_count": 8,
   "id": "c9346c51",
   "metadata": {
    "execution": {
     "iopub.execute_input": "2021-08-23T03:37:36.264314Z",
     "iopub.status.busy": "2021-08-23T03:37:36.263692Z",
     "iopub.status.idle": "2021-08-23T03:37:37.113233Z",
     "shell.execute_reply": "2021-08-23T03:37:37.112823Z",
     "shell.execute_reply.started": "2021-08-23T03:02:00.285640Z"
    },
    "papermill": {
     "duration": 0.869127,
     "end_time": "2021-08-23T03:37:37.113359",
     "exception": false,
     "start_time": "2021-08-23T03:37:36.244232",
     "status": "completed"
    },
    "tags": []
   },
   "outputs": [
    {
     "data": {
      "text/html": [
       "<div>\n",
       "<style scoped>\n",
       "    .dataframe tbody tr th:only-of-type {\n",
       "        vertical-align: middle;\n",
       "    }\n",
       "\n",
       "    .dataframe tbody tr th {\n",
       "        vertical-align: top;\n",
       "    }\n",
       "\n",
       "    .dataframe thead th {\n",
       "        text-align: right;\n",
       "    }\n",
       "</style>\n",
       "<table border=\"1\" class=\"dataframe\">\n",
       "  <thead>\n",
       "    <tr style=\"text-align: right;\">\n",
       "      <th></th>\n",
       "      <th>male</th>\n",
       "      <th>age</th>\n",
       "      <th>education</th>\n",
       "      <th>currentSmoker</th>\n",
       "      <th>cigsPerDay</th>\n",
       "      <th>BPMeds</th>\n",
       "      <th>prevalentStroke</th>\n",
       "      <th>prevalentHyp</th>\n",
       "      <th>diabetes</th>\n",
       "      <th>totChol</th>\n",
       "      <th>sysBP</th>\n",
       "      <th>diaBP</th>\n",
       "      <th>BMI</th>\n",
       "      <th>heartRate</th>\n",
       "      <th>glucose</th>\n",
       "    </tr>\n",
       "  </thead>\n",
       "  <tbody>\n",
       "    <tr>\n",
       "      <th>0</th>\n",
       "      <td>1.153192</td>\n",
       "      <td>-1.234951</td>\n",
       "      <td>2.006559</td>\n",
       "      <td>-0.988271</td>\n",
       "      <td>-0.751322</td>\n",
       "      <td>-0.173612</td>\n",
       "      <td>-0.077033</td>\n",
       "      <td>-0.671101</td>\n",
       "      <td>-0.162477</td>\n",
       "      <td>-0.940600</td>\n",
       "      <td>-1.195907</td>\n",
       "      <td>-1.082625</td>\n",
       "      <td>0.287379</td>\n",
       "      <td>0.342761</td>\n",
       "      <td>-0.201359</td>\n",
       "    </tr>\n",
       "    <tr>\n",
       "      <th>1</th>\n",
       "      <td>-0.867158</td>\n",
       "      <td>-0.418257</td>\n",
       "      <td>0.020387</td>\n",
       "      <td>-0.988271</td>\n",
       "      <td>-0.751322</td>\n",
       "      <td>-0.173612</td>\n",
       "      <td>-0.077033</td>\n",
       "      <td>-0.671101</td>\n",
       "      <td>-0.162477</td>\n",
       "      <td>0.300313</td>\n",
       "      <td>-0.515187</td>\n",
       "      <td>-0.158988</td>\n",
       "      <td>0.719752</td>\n",
       "      <td>1.590291</td>\n",
       "      <td>-0.245099</td>\n",
       "    </tr>\n",
       "    <tr>\n",
       "      <th>2</th>\n",
       "      <td>1.153192</td>\n",
       "      <td>-0.184916</td>\n",
       "      <td>-0.972700</td>\n",
       "      <td>1.011868</td>\n",
       "      <td>0.929210</td>\n",
       "      <td>-0.173612</td>\n",
       "      <td>-0.077033</td>\n",
       "      <td>-0.671101</td>\n",
       "      <td>-0.162477</td>\n",
       "      <td>0.187503</td>\n",
       "      <td>-0.220209</td>\n",
       "      <td>-0.242955</td>\n",
       "      <td>-0.113057</td>\n",
       "      <td>-0.073082</td>\n",
       "      <td>-0.507537</td>\n",
       "    </tr>\n",
       "    <tr>\n",
       "      <th>3</th>\n",
       "      <td>-0.867158</td>\n",
       "      <td>1.331800</td>\n",
       "      <td>1.013473</td>\n",
       "      <td>1.011868</td>\n",
       "      <td>1.769476</td>\n",
       "      <td>-0.173612</td>\n",
       "      <td>-0.077033</td>\n",
       "      <td>1.490089</td>\n",
       "      <td>-0.162477</td>\n",
       "      <td>-0.263739</td>\n",
       "      <td>0.800871</td>\n",
       "      <td>1.016549</td>\n",
       "      <td>0.682902</td>\n",
       "      <td>-0.904768</td>\n",
       "      <td>0.935872</td>\n",
       "    </tr>\n",
       "    <tr>\n",
       "      <th>4</th>\n",
       "      <td>-0.867158</td>\n",
       "      <td>-0.418257</td>\n",
       "      <td>1.013473</td>\n",
       "      <td>1.011868</td>\n",
       "      <td>1.181289</td>\n",
       "      <td>-0.173612</td>\n",
       "      <td>-0.077033</td>\n",
       "      <td>-0.671101</td>\n",
       "      <td>-0.162477</td>\n",
       "      <td>1.089985</td>\n",
       "      <td>-0.106755</td>\n",
       "      <td>0.092912</td>\n",
       "      <td>-0.663350</td>\n",
       "      <td>0.758605</td>\n",
       "      <td>0.148558</td>\n",
       "    </tr>\n",
       "  </tbody>\n",
       "</table>\n",
       "</div>"
      ],
      "text/plain": [
       "       male       age  education  currentSmoker  cigsPerDay    BPMeds  \\\n",
       "0  1.153192 -1.234951   2.006559      -0.988271   -0.751322 -0.173612   \n",
       "1 -0.867158 -0.418257   0.020387      -0.988271   -0.751322 -0.173612   \n",
       "2  1.153192 -0.184916  -0.972700       1.011868    0.929210 -0.173612   \n",
       "3 -0.867158  1.331800   1.013473       1.011868    1.769476 -0.173612   \n",
       "4 -0.867158 -0.418257   1.013473       1.011868    1.181289 -0.173612   \n",
       "\n",
       "   prevalentStroke  prevalentHyp  diabetes   totChol     sysBP     diaBP  \\\n",
       "0        -0.077033     -0.671101 -0.162477 -0.940600 -1.195907 -1.082625   \n",
       "1        -0.077033     -0.671101 -0.162477  0.300313 -0.515187 -0.158988   \n",
       "2        -0.077033     -0.671101 -0.162477  0.187503 -0.220209 -0.242955   \n",
       "3        -0.077033      1.490089 -0.162477 -0.263739  0.800871  1.016549   \n",
       "4        -0.077033     -0.671101 -0.162477  1.089985 -0.106755  0.092912   \n",
       "\n",
       "        BMI  heartRate   glucose  \n",
       "0  0.287379   0.342761 -0.201359  \n",
       "1  0.719752   1.590291 -0.245099  \n",
       "2 -0.113057  -0.073082 -0.507537  \n",
       "3  0.682902  -0.904768  0.935872  \n",
       "4 -0.663350   0.758605  0.148558  "
      ]
     },
     "execution_count": 8,
     "metadata": {},
     "output_type": "execute_result"
    }
   ],
   "source": [
    "#melakukan normalisasi terhadap data yang kita miliki\n",
    "from sklearn.preprocessing import StandardScaler\n",
    "scaler = StandardScaler()\n",
    "scaler.fit(X)\n",
    "scaled_data = scaler.transform(X)\n",
    "scaled_data = pd.DataFrame(scaled_data, columns= X.columns)\n",
    "scaled_data.head()"
   ]
  },
  {
   "cell_type": "code",
   "execution_count": 9,
   "id": "e877d8d4",
   "metadata": {
    "execution": {
     "iopub.execute_input": "2021-08-23T03:37:37.150264Z",
     "iopub.status.busy": "2021-08-23T03:37:37.149680Z",
     "iopub.status.idle": "2021-08-23T03:37:37.197842Z",
     "shell.execute_reply": "2021-08-23T03:37:37.197398Z",
     "shell.execute_reply.started": "2021-08-23T03:02:36.524968Z"
    },
    "papermill": {
     "duration": 0.067826,
     "end_time": "2021-08-23T03:37:37.197955",
     "exception": false,
     "start_time": "2021-08-23T03:37:37.130129",
     "status": "completed"
    },
    "tags": []
   },
   "outputs": [],
   "source": [
    "from sklearn.model_selection import train_test_split\n",
    "X_train, X_test, y_train, y_test = train_test_split(scaled_data, y, test_size=0.2, random_state=1)"
   ]
  },
  {
   "cell_type": "markdown",
   "id": "17a62b8d",
   "metadata": {
    "papermill": {
     "duration": 0.017243,
     "end_time": "2021-08-23T03:37:37.231600",
     "exception": false,
     "start_time": "2021-08-23T03:37:37.214357",
     "status": "completed"
    },
    "tags": []
   },
   "source": [
    "logistikLinear"
   ]
  },
  {
   "cell_type": "code",
   "execution_count": 10,
   "id": "f3144aa3",
   "metadata": {
    "execution": {
     "iopub.execute_input": "2021-08-23T03:37:37.268148Z",
     "iopub.status.busy": "2021-08-23T03:37:37.267545Z",
     "iopub.status.idle": "2021-08-23T03:37:37.543383Z",
     "shell.execute_reply": "2021-08-23T03:37:37.544472Z",
     "shell.execute_reply.started": "2021-08-23T03:02:57.774203Z"
    },
    "papermill": {
     "duration": 0.296712,
     "end_time": "2021-08-23T03:37:37.544791",
     "exception": false,
     "start_time": "2021-08-23T03:37:37.248079",
     "status": "completed"
    },
    "tags": []
   },
   "outputs": [
    {
     "data": {
      "text/plain": [
       "LogisticRegression(max_iter=1000)"
      ]
     },
     "execution_count": 10,
     "metadata": {},
     "output_type": "execute_result"
    }
   ],
   "source": [
    "from sklearn.linear_model import LogisticRegression\n",
    " \n",
    "# latih model dengan fungsi fit\n",
    "model = LogisticRegression(max_iter=1000)\n",
    "model.fit(X_train,y_train)"
   ]
  },
  {
   "cell_type": "code",
   "execution_count": 11,
   "id": "1e183a0c",
   "metadata": {
    "execution": {
     "iopub.execute_input": "2021-08-23T03:37:37.613748Z",
     "iopub.status.busy": "2021-08-23T03:37:37.612952Z",
     "iopub.status.idle": "2021-08-23T03:37:37.626685Z",
     "shell.execute_reply": "2021-08-23T03:37:37.627463Z",
     "shell.execute_reply.started": "2021-08-23T03:07:52.916469Z"
    },
    "papermill": {
     "duration": 0.051983,
     "end_time": "2021-08-23T03:37:37.627590",
     "exception": false,
     "start_time": "2021-08-23T03:37:37.575607",
     "status": "completed"
    },
    "tags": []
   },
   "outputs": [
    {
     "name": "stdout",
     "output_type": "stream",
     "text": [
      "actual heart attack\n",
      "[0 0 0 1 0 0 0 0 0 0 0 0 0 0 0 1 0 1 0 0 0 0 0 0 1 0 0 0 0 0 0 0 0 0 0 0 0\n",
      " 0 0 1 1 1 0 0 0 1 0 0 0 0 0 0 0 0 0 1 1 0 1 0 0 0 0 0 0 0 0 0 1 0 0 0 0 0\n",
      " 0 0 0 0 0 0 0 0 1 0 0 0 0 0 1 0 0 0 0 0 0 0 1 0 0 0 0 0 0 0 0 0 0 0 0 0 0\n",
      " 0 0 0 0 0 1 0 0 0 0 0 0 0 0 0 0 0 0 0 0 1 0 0 0 0 0 0 0 0 0 1 0 0 0 0 0 0\n",
      " 0 0 0 0 0 0 0 0 0 0 0 1 0 0 0 0 1 0 0 0 0 0 0 0 1 0 0 0 1 0 0 0 0 1 0 0 0\n",
      " 1 0 0 1 0 0 0 0 1 0 1 0 0 0 0 0 0 0 0 0 0 0 0 0 0 0 0 0 0 0 1 0 0 0 0 0 0\n",
      " 0 1 0 0 0 0 1 0 1 0 1 0 0 0 0 0 0 0 0 0 1 1 0 0 0 1 0 0 0 0 0 1 0 0 1 0 0\n",
      " 0 1 0 1 0 0 0 0 0 0 0 0 0 0 0 0 1 0 0 0 0 0 0 0 0 0 0 0 0 0 0 1 1 0 1 0 0\n",
      " 0 0 0 0 1 0 0 0 0 0 1 0 1 0 0 0 1 0 0 0 0 0 0 1 0 0 1 0 0 0 0 1 0 1 0 1 1\n",
      " 0 0 0 0 1 0 0 0 0 0 0 1 0 0 0 0 0 0 1 0 0 0 1 0 0 0 0 0 0 0 0 0 0 0 0 0 0\n",
      " 0 0 0 0 0 0 0 0 0 0 0 0 0 0 0 0 0 1 0 0 0 0 0 0 0 0 0 0 0 0 0 0 0 0 0 0 0\n",
      " 0 0 0 0 1 0 0 0 1 0 0 0 0 1 0 0 0 0 0 0 0 0 0 0 0 0 1 1 0 0 0 0 0 0 0 0 0\n",
      " 0 0 1 0 0 0 0 0 0 0 0 0 0 1 0 1 0 0 0 0 0 0 1 0 0 0 0 0 1 0 0 1 1 0 0 0 0\n",
      " 0 0 0 0 0 0 1 0 0 0 0 0 0 0 0 0 0 0 0 0 0 0 0 0 0 0 0 0 0 0 0 0 0 0 0 0 1\n",
      " 0 0 0 0 0 0 0 0 0 0 0 0 0 0 0 1 0 1 1 0 0 0 0 0 0 0 0 0 0 0 0 1 0 0 0 0 0\n",
      " 0 0 1 0 0 0 0 1 0 0 0 0 0 0 0 0 0 0 1 0 0 1 0 0 0 1 0 0 0 0 0 0 0 0 0 0 0\n",
      " 0 1 0 0 0 0 0 0 0 0 0 0 0 0 1 0 0 0 0 0 0 0 0 0 0 0 0 0 0 0 0 0 0 0 0 0 0\n",
      " 0 0 1 0 0 0 0 0 0 0 0 0 0 0 0 1 0 0 1 0 0 0 0 0 0 0 0 1 0 0 1 0 0 0 0 0 0\n",
      " 0 0 0 0 0 0 0 0 0 0 0 0 0 0 1 0 0 0 1 0 0 0 1 0 0 0 1 0 0 0 0 1 0 0 0 0 1\n",
      " 0 0 0 0 0 0 0 1 0 0 0 0 0 0 0 0 0 0 0 1 0 0 0 0 0 0 1 0 0 0 0 1 1 0 0 0 1\n",
      " 1 0 0 0 0 0 0 0 0 0 0 0 0 1 1 0 1 0 0 0 0 0 0 0 0 0 0 1 0 0 0 0 0 0 0 0 0\n",
      " 1 0 0 0 0 0 1 0 0 1 0 0 0 0 0 0 0 0 0 0 0 1 0 0 1 0 0 0 0 0 1 0 0 0 0 0 1\n",
      " 0 0 1 0 0 0 0 0 0 0 0 0 0 0 0 0 0 0 1 0 0 0 0 0 0 0 0 0 0 0 0 0 1 0]\n",
      "\n",
      " prediksi serangan jantung\n",
      "[0 0 0 0 0 0 0 0 0 0 0 0 0 0 0 0 0 0 0 0 0 0 0 0 0 0 0 0 0 1 0 0 0 0 0 0 0\n",
      " 1 0 0 0 0 0 0 0 0 0 0 0 0 0 0 0 0 0 0 0 0 0 0 0 0 0 0 0 0 0 0 0 0 0 0 0 0\n",
      " 0 0 0 0 0 0 0 0 0 0 1 0 0 0 0 0 0 0 0 0 0 0 0 0 0 0 0 0 0 0 0 0 0 0 0 0 0\n",
      " 0 0 0 0 0 0 0 0 0 1 0 0 0 0 0 0 0 0 0 0 0 0 0 0 0 0 0 0 0 0 1 0 1 0 0 0 0\n",
      " 0 0 0 0 0 0 0 0 0 0 0 0 0 0 0 0 0 0 0 0 0 0 0 0 0 0 0 0 0 0 0 0 0 1 0 0 0\n",
      " 0 0 0 0 0 0 0 0 1 0 0 0 0 0 0 0 0 0 0 0 1 0 0 0 0 0 0 0 0 0 0 0 0 0 0 0 0\n",
      " 0 0 0 0 0 0 0 0 0 0 0 0 0 0 0 0 0 0 0 0 0 0 0 0 0 0 0 0 0 0 0 0 0 0 0 0 0\n",
      " 0 0 0 0 0 0 0 0 0 0 0 0 0 0 0 0 0 0 0 0 0 0 0 0 0 0 0 0 0 0 0 1 0 0 0 0 0\n",
      " 0 0 0 0 0 0 0 0 0 0 0 0 0 0 0 0 0 0 0 0 0 0 0 0 0 0 0 0 0 0 0 0 0 1 0 0 0\n",
      " 0 0 0 0 0 0 0 0 0 0 0 0 0 0 0 0 0 0 0 0 0 0 0 0 0 0 0 0 0 0 0 0 0 0 0 0 0\n",
      " 0 0 0 0 0 0 0 0 0 0 0 0 0 0 0 0 0 1 0 0 0 0 0 0 0 0 0 0 0 0 0 0 0 0 0 0 0\n",
      " 0 0 0 0 0 0 0 0 0 0 0 0 0 0 0 0 0 0 0 0 0 0 0 0 0 0 0 1 0 0 0 0 0 0 0 1 0\n",
      " 0 0 0 0 0 0 0 0 0 0 0 0 0 0 0 0 0 0 0 0 0 0 0 0 0 0 0 0 0 0 0 0 0 0 0 0 0\n",
      " 0 0 0 0 0 0 0 0 0 0 0 0 0 0 0 0 0 0 0 0 0 0 0 0 0 0 0 0 0 0 0 0 0 0 0 1 0\n",
      " 0 0 0 0 0 0 0 0 0 0 0 0 0 0 0 0 0 0 0 0 0 0 0 0 0 0 0 0 0 0 0 0 0 0 0 0 0\n",
      " 0 0 0 0 0 0 0 0 0 0 0 0 0 0 0 0 0 0 1 0 0 0 0 0 0 0 0 0 0 0 1 0 0 0 0 0 0\n",
      " 0 0 0 0 0 0 0 0 0 0 0 0 0 0 0 0 0 0 0 0 0 0 0 0 0 0 0 0 0 0 0 0 0 0 0 0 0\n",
      " 0 0 0 0 0 0 0 0 0 0 0 0 0 0 0 0 0 0 0 0 0 0 0 0 0 0 0 0 0 0 0 0 0 0 0 0 0\n",
      " 0 0 0 0 0 0 0 0 0 0 0 0 0 0 0 0 0 0 0 0 0 0 0 0 0 0 0 0 0 0 0 0 0 0 0 0 0\n",
      " 0 0 0 0 0 0 0 0 0 0 0 0 0 0 0 0 0 0 0 0 0 0 0 0 0 0 0 0 0 0 0 0 0 0 0 0 0\n",
      " 0 0 0 0 0 0 0 0 0 0 0 0 0 0 0 0 0 0 0 0 0 0 0 0 0 0 0 0 0 0 0 0 0 0 0 0 0\n",
      " 0 0 0 0 0 0 0 0 0 0 0 0 0 0 0 0 0 0 0 0 0 0 0 0 0 0 0 0 0 0 0 0 0 0 0 0 0\n",
      " 0 0 0 0 0 0 0 0 0 0 0 0 0 0 0 0 0 0 0 0 0 0 0 0 0 0 0 0 0 0 0 0 0 0]\n"
     ]
    }
   ],
   "source": [
    "y_pred = model.predict(X_test)\n",
    "\n",
    "print('actual heart attack')\n",
    "print(y_test.values)\n",
    "\n",
    "print('\\n prediksi serangan jantung')\n",
    "print(y_pred)\n",
    "\n"
   ]
  },
  {
   "cell_type": "code",
   "execution_count": 12,
   "id": "ada39301",
   "metadata": {
    "execution": {
     "iopub.execute_input": "2021-08-23T03:37:37.695480Z",
     "iopub.status.busy": "2021-08-23T03:37:37.694622Z",
     "iopub.status.idle": "2021-08-23T03:37:37.702093Z",
     "shell.execute_reply": "2021-08-23T03:37:37.702708Z",
     "shell.execute_reply.started": "2021-08-23T03:12:48.277172Z"
    },
    "papermill": {
     "duration": 0.045344,
     "end_time": "2021-08-23T03:37:37.702905",
     "exception": false,
     "start_time": "2021-08-23T03:37:37.657561",
     "status": "completed"
    },
    "tags": []
   },
   "outputs": [
    {
     "name": "stdout",
     "output_type": "stream",
     "text": [
      "akurasi : \n",
      "86.32075471698113\n"
     ]
    }
   ],
   "source": [
    "print('akurasi : ')\n",
    "print(model.score(X_test, y_test) * 100)"
   ]
  },
  {
   "cell_type": "markdown",
   "id": "98a990af",
   "metadata": {
    "papermill": {
     "duration": 0.030935,
     "end_time": "2021-08-23T03:37:37.764478",
     "exception": false,
     "start_time": "2021-08-23T03:37:37.733543",
     "status": "completed"
    },
    "tags": []
   },
   "source": [
    "SVM"
   ]
  },
  {
   "cell_type": "code",
   "execution_count": 13,
   "id": "e8d23329",
   "metadata": {
    "execution": {
     "iopub.execute_input": "2021-08-23T03:37:37.832759Z",
     "iopub.status.busy": "2021-08-23T03:37:37.831914Z",
     "iopub.status.idle": "2021-08-23T03:37:37.839505Z",
     "shell.execute_reply": "2021-08-23T03:37:37.839092Z",
     "shell.execute_reply.started": "2021-08-23T03:27:24.469671Z"
    },
    "papermill": {
     "duration": 0.044711,
     "end_time": "2021-08-23T03:37:37.839610",
     "exception": false,
     "start_time": "2021-08-23T03:37:37.794899",
     "status": "completed"
    },
    "tags": []
   },
   "outputs": [],
   "source": [
    "from sklearn.preprocessing import MinMaxScaler\n",
    "scaler = MinMaxScaler()\n",
    "scaler.fit(X)\n",
    "X = scaler.transform(X)\n",
    "y = y.astype('category')\n",
    "y = y.cat.codes"
   ]
  },
  {
   "cell_type": "code",
   "execution_count": 14,
   "id": "ffd643fe",
   "metadata": {
    "execution": {
     "iopub.execute_input": "2021-08-23T03:37:37.879237Z",
     "iopub.status.busy": "2021-08-23T03:37:37.878323Z",
     "iopub.status.idle": "2021-08-23T03:37:37.881832Z",
     "shell.execute_reply": "2021-08-23T03:37:37.881437Z",
     "shell.execute_reply.started": "2021-08-23T03:27:43.689329Z"
    },
    "papermill": {
     "duration": 0.025135,
     "end_time": "2021-08-23T03:37:37.881931",
     "exception": false,
     "start_time": "2021-08-23T03:37:37.856796",
     "status": "completed"
    },
    "tags": []
   },
   "outputs": [],
   "source": [
    "from sklearn.model_selection import train_test_split\n",
    "X_train, X_test, y_train, y_test = train_test_split(X, y, shuffle = True,\n",
    "test_size=0.2, random_state = 42)"
   ]
  },
  {
   "cell_type": "code",
   "execution_count": 15,
   "id": "ec3a177e",
   "metadata": {
    "execution": {
     "iopub.execute_input": "2021-08-23T03:37:37.921049Z",
     "iopub.status.busy": "2021-08-23T03:37:37.920485Z",
     "iopub.status.idle": "2021-08-23T03:37:38.005469Z",
     "shell.execute_reply": "2021-08-23T03:37:38.005039Z",
     "shell.execute_reply.started": "2021-08-23T03:27:45.586308Z"
    },
    "papermill": {
     "duration": 0.10602,
     "end_time": "2021-08-23T03:37:38.005586",
     "exception": false,
     "start_time": "2021-08-23T03:37:37.899566",
     "status": "completed"
    },
    "tags": []
   },
   "outputs": [
    {
     "data": {
      "text/plain": [
       "Pipeline(steps=[('minmaxscaler', MinMaxScaler()),\n",
       "                ('svc', SVC(kernel='linear'))])"
      ]
     },
     "execution_count": 15,
     "metadata": {},
     "output_type": "execute_result"
    }
   ],
   "source": [
    "from sklearn.svm import SVC\n",
    "from sklearn.pipeline import make_pipeline\n",
    "from sklearn.preprocessing import MinMaxScaler, StandardScaler\n",
    "from sklearn.metrics import accuracy_score\n",
    "\n",
    "clf = make_pipeline(MinMaxScaler(), SVC(kernel='linear'))\n",
    "clf.fit(X_train, y_train)"
   ]
  },
  {
   "cell_type": "code",
   "execution_count": 16,
   "id": "57a3c378",
   "metadata": {
    "execution": {
     "iopub.execute_input": "2021-08-23T03:37:38.045404Z",
     "iopub.status.busy": "2021-08-23T03:37:38.044727Z",
     "iopub.status.idle": "2021-08-23T03:37:38.062697Z",
     "shell.execute_reply": "2021-08-23T03:37:38.062120Z",
     "shell.execute_reply.started": "2021-08-23T03:28:56.267143Z"
    },
    "papermill": {
     "duration": 0.039395,
     "end_time": "2021-08-23T03:37:38.062846",
     "exception": false,
     "start_time": "2021-08-23T03:37:38.023451",
     "status": "completed"
    },
    "tags": []
   },
   "outputs": [
    {
     "name": "stdout",
     "output_type": "stream",
     "text": [
      "Akurasi: 85.377\n"
     ]
    }
   ],
   "source": [
    "y_pred = clf.predict(X_test)\n",
    "acc = accuracy_score(y_test, y_pred )*100\n",
    "print('Akurasi: %.3f' % acc)"
   ]
  },
  {
   "cell_type": "markdown",
   "id": "97cc3d40",
   "metadata": {
    "papermill": {
     "duration": 0.0176,
     "end_time": "2021-08-23T03:37:38.098935",
     "exception": false,
     "start_time": "2021-08-23T03:37:38.081335",
     "status": "completed"
    },
    "tags": []
   },
   "source": [
    "MLP"
   ]
  },
  {
   "cell_type": "code",
   "execution_count": 17,
   "id": "156d028c",
   "metadata": {
    "execution": {
     "iopub.execute_input": "2021-08-23T03:37:38.140891Z",
     "iopub.status.busy": "2021-08-23T03:37:38.140263Z",
     "iopub.status.idle": "2021-08-23T03:37:38.164608Z",
     "shell.execute_reply": "2021-08-23T03:37:38.164166Z",
     "shell.execute_reply.started": "2021-08-23T03:35:34.356269Z"
    },
    "papermill": {
     "duration": 0.047744,
     "end_time": "2021-08-23T03:37:38.164710",
     "exception": false,
     "start_time": "2021-08-23T03:37:38.116966",
     "status": "completed"
    },
    "tags": []
   },
   "outputs": [],
   "source": [
    "from sklearn.neural_network import MLPClassifier\n",
    "clf = MLPClassifier(\n",
    "    hidden_layer_sizes=(100, 100, 100),\n",
    "    max_iter=500,\n",
    "    activation='relu',\n",
    "    solver='sgd',\n",
    "    learning_rate='constant',\n",
    "    learning_rate_init=0.01\n",
    ")"
   ]
  },
  {
   "cell_type": "code",
   "execution_count": 18,
   "id": "4b0570b1",
   "metadata": {
    "execution": {
     "iopub.execute_input": "2021-08-23T03:37:38.205052Z",
     "iopub.status.busy": "2021-08-23T03:37:38.204246Z",
     "iopub.status.idle": "2021-08-23T03:37:51.546813Z",
     "shell.execute_reply": "2021-08-23T03:37:51.547554Z",
     "shell.execute_reply.started": "2021-08-23T03:36:08.526635Z"
    },
    "papermill": {
     "duration": 13.364834,
     "end_time": "2021-08-23T03:37:51.547712",
     "exception": false,
     "start_time": "2021-08-23T03:37:38.182878",
     "status": "completed"
    },
    "tags": []
   },
   "outputs": [
    {
     "name": "stdout",
     "output_type": "stream",
     "text": [
      "Akurasi: 0.851\n"
     ]
    }
   ],
   "source": [
    "clf.fit(X_train, y_train)\n",
    "y_pred = clf.predict(X_test)\n",
    "acc = accuracy_score(y_test, y_pred)\n",
    "print('Akurasi: %.3f' % acc)"
   ]
  }
 ],
 "metadata": {
  "kernelspec": {
   "display_name": "Python 3",
   "language": "python",
   "name": "python3"
  },
  "language_info": {
   "codemirror_mode": {
    "name": "ipython",
    "version": 3
   },
   "file_extension": ".py",
   "mimetype": "text/x-python",
   "name": "python",
   "nbconvert_exporter": "python",
   "pygments_lexer": "ipython3",
   "version": "3.7.10"
  },
  "papermill": {
   "default_parameters": {},
   "duration": 23.247722,
   "end_time": "2021-08-23T03:37:52.087899",
   "environment_variables": {},
   "exception": null,
   "input_path": "__notebook__.ipynb",
   "output_path": "__notebook__.ipynb",
   "parameters": {},
   "start_time": "2021-08-23T03:37:28.840177",
   "version": "2.3.3"
  }
 },
 "nbformat": 4,
 "nbformat_minor": 5
}
